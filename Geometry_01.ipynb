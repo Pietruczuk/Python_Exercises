{
 "cells": [
  {
   "cell_type": "markdown",
   "id": "3472a613-62d4-46bf-ac1b-74f4eebc56d1",
   "metadata": {},
   "source": [
    "***\n",
    "## **EXECISES - Solving geometry tasks with Python**\n",
    "\n",
    ">### Krzysztof Pietruczuk<br>kazan.pietruczuk@gmail.com\n",
    ">March 2023\n",
    "\n",
    "***"
   ]
  },
  {
   "cell_type": "code",
   "execution_count": 2,
   "id": "a9ab5494-ae81-46ea-a9cc-8919a34f073c",
   "metadata": {},
   "outputs": [],
   "source": [
    "import math                                                          # Loading needed libraries\n",
    "\n",
    "import matplotlib.pyplot as plt                                      # Loading needed libraries for visualization\n",
    "from matplotlib.patches import Polygon                                             \n"
   ]
  },
  {
   "cell_type": "markdown",
   "id": "e9d2c066-c945-44c3-a013-b90d80e759ed",
   "metadata": {},
   "source": [
    "### **Calculation of the area of a triangle**"
   ]
  },
  {
   "cell_type": "markdown",
   "id": "a09eed77-b2de-44f1-8f02-2542dee7a389",
   "metadata": {},
   "source": [
    ">#### **Example 1**<br> Calculating the area of a triangle having a given base and height. The program asks for this data."
   ]
  },
  {
   "cell_type": "code",
   "execution_count": 5,
   "id": "d49e7b96-bce0-4802-98c7-003fbc60e4b5",
   "metadata": {},
   "outputs": [
    {
     "name": "stdin",
     "output_type": "stream",
     "text": [
      "Enter the base of the triangle:  3\n",
      "Enter the height of the triangle:  7\n"
     ]
    },
    {
     "name": "stdout",
     "output_type": "stream",
     "text": [
      "The area of the triangle is:  10.50\n"
     ]
    }
   ],
   "source": [
    "base = input('Enter the base of the triangle: ')                     # Get the \"base\" variable from the user    \n",
    "base = float(base)                                                   # Convert the type of the \"base\" variable from string to float\n",
    "height = input('Enter the height of the triangle: ')                 # Get the \"height\" variable from the user \n",
    "height = float(height)                                               # Convert the type of the \"height\" variable from string to float\n",
    "area = float((base * height) / 2)                                    # Calculation the area of a triangle using the formula (Base * Height)/2\n",
    "print('The area of the triangle is: ', '{:.2f}'.format(area))        # Print the calculation result"
   ]
  },
  {
   "cell_type": "markdown",
   "id": "130e7919-f19b-4f4d-82b7-73c908a57fa6",
   "metadata": {},
   "source": [
    ">#### **Example 2**<br>Calculating the area of a triangle based on the lengths of its sides. The program asks for this data."
   ]
  },
  {
   "cell_type": "code",
   "execution_count": 6,
   "id": "e5bbadfe-47b9-4e37-8f3f-723c2c8bda81",
   "metadata": {},
   "outputs": [
    {
     "name": "stdin",
     "output_type": "stream",
     "text": [
      "Enter the first side of the triangle =  3\n",
      "Enter the second side of the triangle =  7\n",
      "Enter the third side of the triangle =  8\n"
     ]
    },
    {
     "name": "stdout",
     "output_type": "stream",
     "text": [
      "The area of the triangle is:  10.39\n"
     ]
    }
   ],
   "source": [
    "a = float(input('Enter the first side of the triangle = '))          # Get the length of the first side of the triangle and convert the type of variable\n",
    "b = float(input('Enter the second side of the triangle = '))         # Get the length of the second side of the triangle and convert the type of variable \n",
    "c = float(input('Enter the third side of the triangle = '))          # Get the length of the third side of the triangle and convert the type of variable \n",
    "p = (a + b + c) / 2                                                  # Calculation of the value of half the perimeter of a triangle\n",
    "area = math.sqrt(p*(p-a)*(p-b)*(p-c))                                # Calculation the area of a triangle using the Heron's formula\n",
    "print('The area of the triangle is: ', \"{:.2f}\".format(area))        # Print the calculation result (apply formatting of displayed values)"
   ]
  },
  {
   "cell_type": "markdown",
   "id": "4dd85cf7-30f9-410c-bcd7-f58a786f8ce6",
   "metadata": {},
   "source": [
    "### **Drawing geometric figures to visualize the problem of math tasks in planimetry.**"
   ]
  },
  {
   "cell_type": "markdown",
   "id": "9acf0771-6d6b-4bf8-8e05-31e15bb5bdcb",
   "metadata": {},
   "source": [
    ">#### **Example 1**\n",
    "> Drawing a geometric figure using the matplotlib library. <br> The program draws a triangle. We define the coordinates of the three vertices, the fill color (facecolor='color name') and transparency (alpha=0.x)."
   ]
  },
  {
   "cell_type": "code",
   "execution_count": 98,
   "id": "a9e5e1d6-d883-4da2-b42e-e140a04f904c",
   "metadata": {},
   "outputs": [
    {
     "data": {
      "image/png": "[encoded data removed]",
      "text/plain": [
       "<Figure size 640x480 with 1 Axes>"
      ]
     },
     "metadata": {},
     "output_type": "display_data"
    }
   ],
   "source": [
    "p = Polygon([[2,2], [6,2], [5,7]], facecolor='skyblue', alpha=0.5)   # Defining the features of the drawn figure\n",
    "\n",
    "ax = plt.gca()                                                       # Defining the features of the chart field features\n",
    "ax.add_patch(p)\n",
    "ax.set_xlim(0,10)\n",
    "ax.set_ylim(0,10)\n",
    "ax.set_axis_off()\n",
    "\n",
    "plt.text(3, 8, 'triangle', size=13, ha=\"center\", va=\"center\",color='steelblue',\n",
    "         bbox=dict(boxstyle=\"round\",facecolor='papayawhip',edgecolor='none',)\n",
    "         )\n",
    "ax.annotate('',\n",
    "            xy=(4.5, 4.5), xycoords='data',\n",
    "            xytext=(3, 7.3),\n",
    "            arrowprops=dict(facecolor='steelblue',edgecolor='none',),\n",
    "            horizontalalignment='right', verticalalignment='top',)\n",
    "plt.show()                                                           # Drawing a defined figure"
   ]
  },
  {
   "cell_type": "code",
   "execution_count": null,
   "id": "ac8e86cf-4b28-4d60-aab8-ba655992c75c",
   "metadata": {},
   "outputs": [],
   "source": []
  }
 ],
 "metadata": {
  "kernelspec": {
   "display_name": "Python 3",
   "language": "python",
   "name": "python3"
  },
  "language_info": {
   "codemirror_mode": {
    "name": "ipython",
    "version": 3
   },
   "file_extension": ".py",
   "mimetype": "text/x-python",
   "name": "python",
   "nbconvert_exporter": "python",
   "pygments_lexer": "ipython3",
   "version": "3.10.8"
  }
 },
 "nbformat": 4,
 "nbformat_minor": 5
}
